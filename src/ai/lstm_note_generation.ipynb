{
  "nbformat": 4,
  "nbformat_minor": 0,
  "metadata": {
    "colab": {
      "provenance": []
    },
    "kernelspec": {
      "name": "python3",
      "display_name": "Python 3"
    },
    "language_info": {
      "name": "python"
    }
  },
  "cells": [
    {
      "cell_type": "markdown",
      "source": [
        "#LSTM Music Notes Generation"
      ],
      "metadata": {
        "id": "U68VbIykOLWv"
      }
    },
    {
      "cell_type": "markdown",
      "source": [
        "##Imports"
      ],
      "metadata": {
        "id": "MvTo0nPEOULj"
      }
    },
    {
      "cell_type": "code",
      "source": [
        "!pip install pretty_midi"
      ],
      "metadata": {
        "id": "6KK1CSQfOc71"
      },
      "execution_count": null,
      "outputs": []
    },
    {
      "cell_type": "code",
      "source": [
        "import pathlib\n",
        "import pretty_midi\n",
        "import glob\n",
        "from tensorflow import keras\n",
        "from tensorflow.keras import layers\n",
        "import tensorflow as tf\n",
        "import numpy as np\n",
        "import mido"
      ],
      "metadata": {
        "id": "Wu56QxzFOTBI"
      },
      "execution_count": 3,
      "outputs": []
    },
    {
      "cell_type": "markdown",
      "source": [
        "##Prepare the data"
      ],
      "metadata": {
        "id": "QtK7CFwgOvDE"
      }
    },
    {
      "cell_type": "code",
      "source": [
        "data_dir = pathlib.Path('data/maestro-v2.0.0')\n",
        "if not data_dir.exists():\n",
        "  tf.keras.utils.get_file(\n",
        "      'maestro-v2.0.0-midi.zip',\n",
        "      origin='https://storage.googleapis.com/magentadata/datasets/maestro/v2.0.0/maestro-v2.0.0-midi.zip',\n",
        "      extract=True,\n",
        "      cache_dir='.', cache_subdir='data',\n",
        "  )"
      ],
      "metadata": {
        "colab": {
          "base_uri": "https://localhost:8080/"
        },
        "id": "E5jLr8xZOypj",
        "outputId": "08a1282a-9108-45b4-8fb6-46388e0a7db9"
      },
      "execution_count": 4,
      "outputs": [
        {
          "output_type": "stream",
          "name": "stdout",
          "text": [
            "Downloading data from https://storage.googleapis.com/magentadata/datasets/maestro/v2.0.0/maestro-v2.0.0-midi.zip\n",
            "59243107/59243107 [==============================] - 2s 0us/step\n"
          ]
        }
      ]
    },
    {
      "cell_type": "code",
      "source": [
        "filenames = glob.glob(str(data_dir/'**/*.mid*'))\n",
        "print('Number of songs:', len(filenames))\n"
      ],
      "metadata": {
        "colab": {
          "base_uri": "https://localhost:8080/"
        },
        "id": "mUNMI1qUO6E0",
        "outputId": "2cb79b68-abce-457a-c4c0-9bff666778a9"
      },
      "execution_count": 108,
      "outputs": [
        {
          "output_type": "stream",
          "name": "stdout",
          "text": [
            "Number of songs: 1282\n",
            "data/maestro-v2.0.0/2017/MIDI-Unprocessed_054_PIANO054_MID--AUDIO-split_07-07-17_Piano-e_1-02_wav--2.midi\n"
          ]
        }
      ]
    },
    {
      "cell_type": "code",
      "source": [
        "# cut the song in semi-redundant sequences of maxlen notes\n",
        "maxlen = 40\n",
        "step = 3\n",
        "n_song = 10"
      ],
      "metadata": {
        "id": "xHK__cwKPDAL"
      },
      "execution_count": 10,
      "outputs": []
    },
    {
      "cell_type": "code",
      "source": [
        "songs = [pretty_midi.PrettyMIDI(file) for file in filenames[:n_song]]\n",
        "print(len(songs))"
      ],
      "metadata": {
        "colab": {
          "base_uri": "https://localhost:8080/"
        },
        "id": "l4ArHVLPQJSu",
        "outputId": "13cf72b2-aca1-43ee-c2bd-e09f90da7d01"
      },
      "execution_count": 12,
      "outputs": [
        {
          "output_type": "stream",
          "name": "stdout",
          "text": [
            "10\n"
          ]
        }
      ]
    },
    {
      "cell_type": "code",
      "source": [
        "def pitch_to_array(pitch):\n",
        "    array = np.zeros((128, 1))\n",
        "    array[pitch] = 1\n",
        "    return array"
      ],
      "metadata": {
        "id": "UyDAcuFdPTLh"
      },
      "execution_count": 8,
      "outputs": []
    },
    {
      "cell_type": "code",
      "source": [
        "def song_to_data(start, notes):\n",
        "    x = np.zeros((maxlen, 128))\n",
        "    y = np.zeros((1, 128))\n",
        "    for i in range(start, start+maxlen):\n",
        "        x[i-start,notes[i]] = 1\n",
        "    y[0, notes[start+maxlen]] = 1\n",
        "    return (x, y)"
      ],
      "metadata": {
        "id": "qLXrK-yPPi5T"
      },
      "execution_count": 13,
      "outputs": []
    },
    {
      "cell_type": "code",
      "source": [
        "x_train = np.zeros((0, maxlen, 128))\n",
        "y_train = np.zeros((0, 1, 128))\n",
        "\n",
        "for i, song in enumerate(songs[:n_song]):\n",
        "    inst = song.instruments[0]\n",
        "    notes = [note.pitch for i, note in enumerate(inst.notes)]\n",
        "    start = 0\n",
        "    print(\"[Loading]... Song number : \" , i ,\" - Number of notes : \" ,len(notes))\n",
        "    while start+maxlen < len(notes):\n",
        "        x, y = song_to_data(start, notes)\n",
        "        x_train = np.append(x_train, x.reshape((1, maxlen, 128)), axis=0)\n",
        "        y_train = np.append(y_train, y.reshape((1, 1, 128)), axis=0)\n",
        "        start += step"
      ],
      "metadata": {
        "colab": {
          "base_uri": "https://localhost:8080/"
        },
        "id": "RFUxvCCGP1bO",
        "outputId": "ca7032f3-dee5-493e-a7c5-b8c444e8e076"
      },
      "execution_count": 15,
      "outputs": [
        {
          "output_type": "stream",
          "name": "stdout",
          "text": [
            "[Loading]... Song number :  0  - Number of notes :  5949\n",
            "[Loading]... Song number :  1  - Number of notes :  1638\n",
            "[Loading]... Song number :  2  - Number of notes :  3321\n",
            "[Loading]... Song number :  3  - Number of notes :  6943\n",
            "[Loading]... Song number :  4  - Number of notes :  7348\n",
            "[Loading]... Song number :  5  - Number of notes :  3326\n",
            "[Loading]... Song number :  6  - Number of notes :  3175\n",
            "[Loading]... Song number :  7  - Number of notes :  1618\n",
            "[Loading]... Song number :  8  - Number of notes :  2831\n",
            "[Loading]... Song number :  9  - Number of notes :  2232\n"
          ]
        }
      ]
    },
    {
      "cell_type": "code",
      "source": [
        "np.save('data/x_train.npy', x_train)\n",
        "np.save('data/y_train.npy', y_train)"
      ],
      "metadata": {
        "id": "I5OVoFhoSkGY"
      },
      "execution_count": 19,
      "outputs": []
    },
    {
      "cell_type": "code",
      "source": [
        "print(x_train.shape)\n",
        "y_train = y_train.reshape((12663,128))\n",
        "print(y_train.shape)"
      ],
      "metadata": {
        "colab": {
          "base_uri": "https://localhost:8080/"
        },
        "id": "mh-qDpdgS4LB",
        "outputId": "5712cbd4-f8ed-41b7-c361-07566158905b"
      },
      "execution_count": 23,
      "outputs": [
        {
          "output_type": "stream",
          "name": "stdout",
          "text": [
            "(12663, 40, 128)\n",
            "(12663, 128)\n"
          ]
        }
      ]
    },
    {
      "cell_type": "markdown",
      "source": [
        "##Build the model"
      ],
      "metadata": {
        "id": "kpb4_VYZTHcj"
      }
    },
    {
      "cell_type": "code",
      "source": [
        "model = keras.Sequential(\n",
        "    [\n",
        "        keras.Input(shape=(maxlen, 128)),\n",
        "        layers.LSTM(128),\n",
        "        layers.Dense(128, activation=\"softmax\"),\n",
        "    ]\n",
        ")\n",
        "optimizer = keras.optimizers.RMSprop(learning_rate=0.01)\n",
        "model.compile(loss=\"categorical_crossentropy\", optimizer=optimizer)"
      ],
      "metadata": {
        "id": "VJQPaqToTMeP"
      },
      "execution_count": 24,
      "outputs": []
    },
    {
      "cell_type": "code",
      "source": [
        "model.summary()"
      ],
      "metadata": {
        "colab": {
          "base_uri": "https://localhost:8080/"
        },
        "id": "vEmlwf9lTQqM",
        "outputId": "07515f54-dfa3-4012-d318-70d9ac0a6121"
      },
      "execution_count": 25,
      "outputs": [
        {
          "output_type": "stream",
          "name": "stdout",
          "text": [
            "Model: \"sequential\"\n",
            "_________________________________________________________________\n",
            " Layer (type)                Output Shape              Param #   \n",
            "=================================================================\n",
            " lstm (LSTM)                 (None, 128)               131584    \n",
            "                                                                 \n",
            " dense (Dense)               (None, 128)               16512     \n",
            "                                                                 \n",
            "=================================================================\n",
            "Total params: 148,096\n",
            "Trainable params: 148,096\n",
            "Non-trainable params: 0\n",
            "_________________________________________________________________\n"
          ]
        }
      ]
    },
    {
      "cell_type": "code",
      "source": [
        "epochs = 40\n",
        "batch_size = 128\n",
        "\n",
        "model.fit(x_train, y_train, batch_size=batch_size, epochs=epochs)"
      ],
      "metadata": {
        "colab": {
          "base_uri": "https://localhost:8080/"
        },
        "id": "ftErMEPUTSZD",
        "outputId": "8e959562-9292-4dd3-da16-8a9387f6668e"
      },
      "execution_count": 26,
      "outputs": [
        {
          "output_type": "stream",
          "name": "stdout",
          "text": [
            "Epoch 1/40\n",
            "99/99 [==============================] - 13s 110ms/step - loss: 4.0643\n",
            "Epoch 2/40\n",
            "99/99 [==============================] - 11s 115ms/step - loss: 3.6756\n",
            "Epoch 3/40\n",
            "99/99 [==============================] - 10s 100ms/step - loss: 3.4612\n",
            "Epoch 4/40\n",
            "99/99 [==============================] - 10s 99ms/step - loss: 3.2717\n",
            "Epoch 5/40\n",
            "99/99 [==============================] - 10s 101ms/step - loss: 3.0793\n",
            "Epoch 6/40\n",
            "99/99 [==============================] - 10s 101ms/step - loss: 2.8613\n",
            "Epoch 7/40\n",
            "99/99 [==============================] - 10s 99ms/step - loss: 2.6306\n",
            "Epoch 8/40\n",
            "99/99 [==============================] - 10s 99ms/step - loss: 2.3976\n",
            "Epoch 9/40\n",
            "99/99 [==============================] - 10s 99ms/step - loss: 2.1738\n",
            "Epoch 10/40\n",
            "99/99 [==============================] - 10s 99ms/step - loss: 1.9580\n",
            "Epoch 11/40\n",
            "99/99 [==============================] - 10s 100ms/step - loss: 1.7534\n",
            "Epoch 12/40\n",
            "99/99 [==============================] - 10s 98ms/step - loss: 1.5755\n",
            "Epoch 13/40\n",
            "99/99 [==============================] - 10s 97ms/step - loss: 1.4161\n",
            "Epoch 14/40\n",
            "99/99 [==============================] - 10s 98ms/step - loss: 1.2770\n",
            "Epoch 15/40\n",
            "99/99 [==============================] - 10s 98ms/step - loss: 1.1488\n",
            "Epoch 16/40\n",
            "99/99 [==============================] - 10s 97ms/step - loss: 1.0350\n",
            "Epoch 17/40\n",
            "99/99 [==============================] - 10s 97ms/step - loss: 0.9361\n",
            "Epoch 18/40\n",
            "99/99 [==============================] - 10s 97ms/step - loss: 0.8531\n",
            "Epoch 19/40\n",
            "99/99 [==============================] - 10s 103ms/step - loss: 0.7874\n",
            "Epoch 20/40\n",
            "99/99 [==============================] - 10s 101ms/step - loss: 0.7258\n",
            "Epoch 21/40\n",
            "99/99 [==============================] - 10s 97ms/step - loss: 0.6671\n",
            "Epoch 22/40\n",
            "99/99 [==============================] - 10s 97ms/step - loss: 0.6181\n",
            "Epoch 23/40\n",
            "99/99 [==============================] - 10s 98ms/step - loss: 0.5820\n",
            "Epoch 24/40\n",
            "99/99 [==============================] - 10s 97ms/step - loss: 0.5478\n",
            "Epoch 25/40\n",
            "99/99 [==============================] - 10s 97ms/step - loss: 0.5172\n",
            "Epoch 26/40\n",
            "99/99 [==============================] - 10s 97ms/step - loss: 0.4869\n",
            "Epoch 27/40\n",
            "99/99 [==============================] - 10s 97ms/step - loss: 0.4529\n",
            "Epoch 28/40\n",
            "99/99 [==============================] - 10s 97ms/step - loss: 0.4207\n",
            "Epoch 29/40\n",
            "99/99 [==============================] - 10s 97ms/step - loss: 0.4141\n",
            "Epoch 30/40\n",
            "99/99 [==============================] - 10s 97ms/step - loss: 0.3836\n",
            "Epoch 31/40\n",
            "99/99 [==============================] - 10s 98ms/step - loss: 0.3768\n",
            "Epoch 32/40\n",
            "99/99 [==============================] - 10s 97ms/step - loss: 0.3564\n",
            "Epoch 33/40\n",
            "99/99 [==============================] - 10s 97ms/step - loss: 0.3501\n",
            "Epoch 34/40\n",
            "99/99 [==============================] - 10s 98ms/step - loss: 0.3369\n",
            "Epoch 35/40\n",
            "99/99 [==============================] - 10s 98ms/step - loss: 0.3248\n",
            "Epoch 36/40\n",
            "99/99 [==============================] - 10s 105ms/step - loss: 0.3174\n",
            "Epoch 37/40\n",
            "99/99 [==============================] - 10s 98ms/step - loss: 0.3066\n",
            "Epoch 38/40\n",
            "99/99 [==============================] - 10s 104ms/step - loss: 0.2814\n",
            "Epoch 39/40\n",
            "99/99 [==============================] - 10s 96ms/step - loss: 0.2850\n",
            "Epoch 40/40\n",
            "99/99 [==============================] - 10s 97ms/step - loss: 0.2831\n"
          ]
        },
        {
          "output_type": "execute_result",
          "data": {
            "text/plain": [
              "<keras.callbacks.History at 0x7f76539a19a0>"
            ]
          },
          "metadata": {},
          "execution_count": 26
        }
      ]
    },
    {
      "cell_type": "code",
      "source": [
        "dot_img_file = '/tmp/model_1.png'\n",
        "tf.keras.utils.plot_model(model, to_file=dot_img_file, show_shapes=True)"
      ],
      "metadata": {
        "colab": {
          "base_uri": "https://localhost:8080/",
          "height": 312
        },
        "id": "vIo5YyBATcAf",
        "outputId": "27cb2212-fee4-4e87-ac8d-ec193da1e7ce"
      },
      "execution_count": 27,
      "outputs": [
        {
          "output_type": "execute_result",
          "data": {
            "image/png": "[encoded data removed]",
            "text/plain": [
              "<IPython.core.display.Image object>"
            ]
          },
          "metadata": {},
          "execution_count": 27
        }
      ]
    },
    {
      "cell_type": "code",
      "source": [
        "import matplotlib.pyplot as plt\n",
        "\n",
        "history = model.history\n",
        "print(history.history.keys())\n",
        "# summarize history for loss\n",
        "plt.plot(history.history['loss'])\n",
        "plt.title('model loss')\n",
        "plt.ylabel('loss')\n",
        "plt.xlabel('epoch')\n",
        "plt.legend(['train', 'test'], loc='upper left')\n",
        "plt.show()"
      ],
      "metadata": {
        "colab": {
          "base_uri": "https://localhost:8080/",
          "height": 312
        },
        "id": "7xOVHINjVHya",
        "outputId": "ac161dcb-1f0a-40c2-dba7-db7312000f6c"
      },
      "execution_count": 34,
      "outputs": [
        {
          "output_type": "stream",
          "name": "stdout",
          "text": [
            "dict_keys(['loss'])\n"
          ]
        },
        {
          "output_type": "display_data",
          "data": {
            "text/plain": [
              "<Figure size 432x288 with 1 Axes>"
            ],
            "image/png": "[encoded data removed]"
          },
          "metadata": {
            "needs_background": "light"
          }
        }
      ]
    },
    {
      "cell_type": "code",
      "source": [
        "_SAMPLING_RATE = 16000\n",
        "def display_audio(pm: pretty_midi.PrettyMIDI, seconds=30):\n",
        "  waveform = pm.fluidsynth(fs=_SAMPLING_RATE)\n",
        "  # Take a sample of the generated waveform to mitigate kernel resets\n",
        "  waveform_short = waveform[:seconds*_SAMPLING_RATE]\n",
        "  return display.Audio(waveform_short, rate=_SAMPLING_RATE)"
      ],
      "metadata": {
        "id": "oxf0XCTBWIBO"
      },
      "execution_count": 36,
      "outputs": []
    },
    {
      "cell_type": "code",
      "source": [
        "!sudo apt install -y fluidsynth"
      ],
      "metadata": {
        "colab": {
          "base_uri": "https://localhost:8080/"
        },
        "id": "2WD3Y8unWOjc",
        "outputId": "8226c771-fbaf-4a13-ff69-4dd7720393da"
      },
      "execution_count": 54,
      "outputs": [
        {
          "output_type": "stream",
          "name": "stdout",
          "text": [
            "Reading package lists... Done\n",
            "Building dependency tree       \n",
            "Reading state information... Done\n",
            "fluidsynth is already the newest version (1.1.9-1).\n",
            "The following package was automatically installed and is no longer required:\n",
            "  libnvidia-common-460\n",
            "Use 'sudo apt autoremove' to remove it.\n",
            "0 upgraded, 0 newly installed, 0 to remove and 20 not upgraded.\n"
          ]
        }
      ]
    },
    {
      "cell_type": "code",
      "source": [
        "!pip install --upgrade pyfluidsynth"
      ],
      "metadata": {
        "colab": {
          "base_uri": "https://localhost:8080/"
        },
        "id": "VKhiQJWmW2v1",
        "outputId": "ecc84415-139b-4bdf-ee40-8f2aef963249"
      },
      "execution_count": 55,
      "outputs": [
        {
          "output_type": "stream",
          "name": "stdout",
          "text": [
            "Looking in indexes: https://pypi.org/simple, https://us-python.pkg.dev/colab-wheels/public/simple/\n",
            "Requirement already satisfied: pyfluidsynth in /usr/local/lib/python3.8/dist-packages (1.3.1)\n",
            "Requirement already satisfied: numpy in /usr/local/lib/python3.8/dist-packages (from pyfluidsynth) (1.21.6)\n"
          ]
        }
      ]
    },
    {
      "cell_type": "code",
      "source": [
        "import fluidsynth"
      ],
      "metadata": {
        "id": "IMMyOCL1VZvs"
      },
      "execution_count": 56,
      "outputs": []
    },
    {
      "cell_type": "code",
      "source": [
        "def pitch_to_midi(pitch_sequence):\n",
        "    tempo = mido.bpm2tempo(120)\n",
        "    time_signature = (4, 4, 24, 8)\n",
        "\n",
        "    # Create a MIDI file and add the tempo and time signature information\n",
        "    mid = mido.MidiFile()\n",
        "    mid.ticks_per_beat = 480\n",
        "    mid.tracks.append(mido.MidiTrack())\n",
        "    mid.tracks[0].append(mido.MetaMessage(\"set_tempo\", tempo=tempo))\n",
        "    mid.tracks[0].append(mido.MetaMessage(\"time_signature\", numerator=time_signature[0], denominator=time_signature[1], clocks_per_click=time_signature[2], notated_32nd_notes_per_beat=time_signature[3]))\n",
        "\n",
        "    # Convert the pitch sequence to a list of MIDI notes\n",
        "    notes = []\n",
        "    for pitch in pitch_sequence:\n",
        "        notes.append(mido.Message(\"note_on\", note=pitch, velocity=100, time=0))\n",
        "        notes.append(mido.Message(\"note_off\", note=pitch, velocity=100, time=480))\n",
        "\n",
        "    # Add the notes to the MIDI file\n",
        "    mid.tracks[0].extend(notes)\n",
        "\n",
        "    # Save the MIDI file\n",
        "    mid.save(\"pitch_sequence.mid\")"
      ],
      "metadata": {
        "id": "PoCZKsKFYn2m"
      },
      "execution_count": 60,
      "outputs": []
    },
    {
      "cell_type": "code",
      "source": [
        "print(filenames[0])\n",
        "pred_song = pretty_midi.PrettyMIDI(filenames[20])\n",
        "inst = pred_song.instruments[0]\n",
        "\n",
        "pred_notes = [notes.pitch for i, notes in enumerate(inst.notes)]\n",
        "pitch_to_midi(pred_notes)\n",
        "x, y = song_to_data(0, pred_notes)\n",
        "x = x.reshape((1, 40, 128))\n",
        "print(x.shape)\n",
        "\n",
        "print(pred_notes[:10])"
      ],
      "metadata": {
        "colab": {
          "base_uri": "https://localhost:8080/"
        },
        "id": "2pubqkmcWEK4",
        "outputId": "a17c432d-29d3-4f10-c565-33e7843e82dd"
      },
      "execution_count": 117,
      "outputs": [
        {
          "output_type": "stream",
          "name": "stdout",
          "text": [
            "data/maestro-v2.0.0/2017/MIDI-Unprocessed_048_PIANO048_MID--AUDIO-split_07-06-17_Piano-e_2-05_wav--4.midi\n",
            "(1, 40, 128)\n",
            "[39, 27, 51, 42, 51, 30, 33, 39, 45, 51]\n"
          ]
        }
      ]
    },
    {
      "cell_type": "code",
      "source": [
        "total_song = pred_notes[:40]\n",
        "\n",
        "\n",
        "for j in range(100):\n",
        "  preds = model.predict(x)\n",
        "  print(np.argmax(preds))\n",
        "  total_song.append(np.argmax(preds))\n",
        "  preds[0,np.argmax(preds)] = 1\n",
        "  preds[preds != 1] = 0\n",
        "  for i in range(maxlen-1):\n",
        "    x[0, i, :] = x[0, i+1, :]\n",
        "  x[0, maxlen-1, :] = preds[0]\n",
        "\n",
        "\n",
        "print(total_song)\n",
        "\n",
        "print(pred_notes[:140])"
      ],
      "metadata": {
        "colab": {
          "base_uri": "https://localhost:8080/"
        },
        "id": "MU6xZd64Y-Uj",
        "outputId": "23ff2aa0-9a68-4cc0-f7b0-b19840da7d28"
      },
      "execution_count": 118,
      "outputs": [
        {
          "output_type": "stream",
          "name": "stdout",
          "text": [
            "1/1 [==============================] - 0s 26ms/step\n",
            "66\n",
            "1/1 [==============================] - 0s 74ms/step\n",
            "67\n",
            "1/1 [==============================] - 0s 95ms/step\n",
            "51\n",
            "1/1 [==============================] - 0s 76ms/step\n",
            "50\n",
            "1/1 [==============================] - 0s 30ms/step\n",
            "78\n",
            "1/1 [==============================] - 0s 18ms/step\n",
            "71\n",
            "1/1 [==============================] - 0s 27ms/step\n",
            "43\n",
            "1/1 [==============================] - 0s 18ms/step\n",
            "39\n",
            "1/1 [==============================] - 0s 31ms/step\n",
            "46\n",
            "1/1 [==============================] - 0s 17ms/step\n",
            "76\n",
            "1/1 [==============================] - 0s 20ms/step\n",
            "43\n",
            "1/1 [==============================] - 0s 17ms/step\n",
            "53\n",
            "1/1 [==============================] - 0s 18ms/step\n",
            "55\n",
            "1/1 [==============================] - 0s 19ms/step\n",
            "53\n",
            "1/1 [==============================] - 0s 26ms/step\n",
            "59\n",
            "1/1 [==============================] - 0s 21ms/step\n",
            "68\n",
            "1/1 [==============================] - 0s 19ms/step\n",
            "46\n",
            "1/1 [==============================] - 0s 19ms/step\n",
            "53\n",
            "1/1 [==============================] - 0s 25ms/step\n",
            "41\n",
            "1/1 [==============================] - 0s 20ms/step\n",
            "38\n",
            "1/1 [==============================] - 0s 25ms/step\n",
            "44\n",
            "1/1 [==============================] - 0s 26ms/step\n",
            "68\n",
            "1/1 [==============================] - 0s 18ms/step\n",
            "41\n",
            "1/1 [==============================] - 0s 18ms/step\n",
            "38\n",
            "1/1 [==============================] - 0s 21ms/step\n",
            "68\n",
            "1/1 [==============================] - 0s 23ms/step\n",
            "38\n",
            "1/1 [==============================] - 0s 21ms/step\n",
            "50\n",
            "1/1 [==============================] - 0s 21ms/step\n",
            "38\n",
            "1/1 [==============================] - 0s 19ms/step\n",
            "69\n",
            "1/1 [==============================] - 0s 22ms/step\n",
            "66\n",
            "1/1 [==============================] - 0s 19ms/step\n",
            "40\n",
            "1/1 [==============================] - 0s 18ms/step\n",
            "67\n",
            "1/1 [==============================] - 0s 18ms/step\n",
            "34\n",
            "1/1 [==============================] - 0s 18ms/step\n",
            "38\n",
            "1/1 [==============================] - 0s 20ms/step\n",
            "62\n",
            "1/1 [==============================] - 0s 20ms/step\n",
            "35\n",
            "1/1 [==============================] - 0s 20ms/step\n",
            "38\n",
            "1/1 [==============================] - 0s 19ms/step\n",
            "38\n",
            "1/1 [==============================] - 0s 17ms/step\n",
            "66\n",
            "1/1 [==============================] - 0s 20ms/step\n",
            "49\n",
            "1/1 [==============================] - 0s 19ms/step\n",
            "66\n",
            "1/1 [==============================] - 0s 18ms/step\n",
            "40\n",
            "1/1 [==============================] - 0s 21ms/step\n",
            "43\n",
            "1/1 [==============================] - 0s 19ms/step\n",
            "67\n",
            "1/1 [==============================] - 0s 19ms/step\n",
            "37\n",
            "1/1 [==============================] - 0s 22ms/step\n",
            "67\n",
            "1/1 [==============================] - 0s 24ms/step\n",
            "66\n",
            "1/1 [==============================] - 0s 17ms/step\n",
            "50\n",
            "1/1 [==============================] - 0s 21ms/step\n",
            "78\n",
            "1/1 [==============================] - 0s 19ms/step\n",
            "67\n",
            "1/1 [==============================] - 0s 22ms/step\n",
            "67\n",
            "1/1 [==============================] - 0s 20ms/step\n",
            "50\n",
            "1/1 [==============================] - 0s 20ms/step\n",
            "57\n",
            "1/1 [==============================] - 0s 22ms/step\n",
            "58\n",
            "1/1 [==============================] - 0s 24ms/step\n",
            "80\n",
            "1/1 [==============================] - 0s 18ms/step\n",
            "69\n",
            "1/1 [==============================] - 0s 22ms/step\n",
            "43\n",
            "1/1 [==============================] - 0s 24ms/step\n",
            "67\n",
            "1/1 [==============================] - 0s 20ms/step\n",
            "50\n",
            "1/1 [==============================] - 0s 25ms/step\n",
            "57\n",
            "1/1 [==============================] - 0s 19ms/step\n",
            "67\n",
            "1/1 [==============================] - 0s 19ms/step\n",
            "69\n",
            "1/1 [==============================] - 0s 18ms/step\n",
            "70\n",
            "1/1 [==============================] - 0s 19ms/step\n",
            "53\n",
            "1/1 [==============================] - 0s 18ms/step\n",
            "67\n",
            "1/1 [==============================] - 0s 20ms/step\n",
            "50\n",
            "1/1 [==============================] - 0s 22ms/step\n",
            "57\n",
            "1/1 [==============================] - 0s 26ms/step\n",
            "38\n",
            "1/1 [==============================] - 0s 21ms/step\n",
            "47\n",
            "1/1 [==============================] - 0s 21ms/step\n",
            "35\n",
            "1/1 [==============================] - 0s 20ms/step\n",
            "55\n",
            "1/1 [==============================] - 0s 20ms/step\n",
            "47\n",
            "1/1 [==============================] - 0s 19ms/step\n",
            "48\n",
            "1/1 [==============================] - 0s 22ms/step\n",
            "69\n",
            "1/1 [==============================] - 0s 19ms/step\n",
            "57\n",
            "1/1 [==============================] - 0s 21ms/step\n",
            "69\n",
            "1/1 [==============================] - 0s 19ms/step\n",
            "52\n",
            "1/1 [==============================] - 0s 19ms/step\n",
            "51\n",
            "1/1 [==============================] - 0s 21ms/step\n",
            "53\n",
            "1/1 [==============================] - 0s 21ms/step\n",
            "56\n",
            "1/1 [==============================] - 0s 24ms/step\n",
            "52\n",
            "1/1 [==============================] - 0s 20ms/step\n",
            "40\n",
            "1/1 [==============================] - 0s 20ms/step\n",
            "72\n",
            "1/1 [==============================] - 0s 20ms/step\n",
            "51\n",
            "1/1 [==============================] - 0s 20ms/step\n",
            "49\n",
            "1/1 [==============================] - 0s 22ms/step\n",
            "69\n",
            "1/1 [==============================] - 0s 19ms/step\n",
            "50\n",
            "1/1 [==============================] - 0s 22ms/step\n",
            "67\n",
            "1/1 [==============================] - 0s 19ms/step\n",
            "45\n",
            "1/1 [==============================] - 0s 20ms/step\n",
            "38\n",
            "1/1 [==============================] - 0s 20ms/step\n",
            "57\n",
            "1/1 [==============================] - 0s 18ms/step\n",
            "69\n",
            "1/1 [==============================] - 0s 17ms/step\n",
            "49\n",
            "1/1 [==============================] - 0s 20ms/step\n",
            "61\n",
            "1/1 [==============================] - 0s 20ms/step\n",
            "70\n",
            "1/1 [==============================] - 0s 20ms/step\n",
            "67\n",
            "1/1 [==============================] - 0s 22ms/step\n",
            "50\n",
            "1/1 [==============================] - 0s 19ms/step\n",
            "60\n",
            "1/1 [==============================] - 0s 24ms/step\n",
            "69\n",
            "1/1 [==============================] - 0s 32ms/step\n",
            "70\n",
            "[39, 27, 51, 42, 51, 30, 33, 39, 45, 51, 34, 46, 39, 51, 39, 47, 51, 35, 48, 39, 51, 36, 39, 33, 45, 51, 39, 30, 42, 51, 39, 27, 51, 42, 30, 51, 33, 39, 45, 51, 66, 67, 51, 50, 78, 71, 43, 39, 46, 76, 43, 53, 55, 53, 59, 68, 46, 53, 41, 38, 44, 68, 41, 38, 68, 38, 50, 38, 69, 66, 40, 67, 34, 38, 62, 35, 38, 38, 66, 49, 66, 40, 43, 67, 37, 67, 66, 50, 78, 67, 67, 50, 57, 58, 80, 69, 43, 67, 50, 57, 67, 69, 70, 53, 67, 50, 57, 38, 47, 35, 55, 47, 48, 69, 57, 69, 52, 51, 53, 56, 52, 40, 72, 51, 49, 69, 50, 67, 45, 38, 57, 69, 49, 61, 70, 67, 50, 60, 69, 70]\n",
            "[39, 27, 51, 42, 51, 30, 33, 39, 45, 51, 34, 46, 39, 51, 39, 47, 51, 35, 48, 39, 51, 36, 39, 33, 45, 51, 39, 30, 42, 51, 39, 27, 51, 42, 30, 51, 33, 39, 45, 51, 34, 39, 46, 51, 39, 47, 51, 35, 48, 39, 51, 36, 39, 33, 45, 51, 39, 30, 42, 51, 39, 27, 51, 42, 30, 54, 33, 45, 57, 34, 46, 58, 35, 47, 48, 59, 36, 48, 50, 60, 37, 49, 61, 54, 62, 57, 49, 50, 55, 63, 58, 38, 66, 57, 60, 49, 50, 70, 65, 62, 38, 69, 60, 63, 50, 49, 62, 58, 67, 38, 60, 57, 66, 49, 50, 67, 61, 58, 38, 54, 62, 50, 55, 58, 63, 38, 57, 60, 66, 49, 50, 65, 62, 70, 38, 69, 60, 63, 49, 50]\n"
          ]
        }
      ]
    },
    {
      "cell_type": "code",
      "source": [],
      "metadata": {
        "id": "NZVuJt4jXsZ6"
      },
      "execution_count": null,
      "outputs": []
    }
  ]
}